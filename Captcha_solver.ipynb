{
 "cells": [
  {
   "cell_type": "code",
   "execution_count": 41,
   "metadata": {},
   "outputs": [],
   "source": [
    "import requests\n",
    "from bs4 import BeautifulSoup\n",
    "from pytesseract import pytesseract\n",
    "from PIL import Image, ImageFilter, ImageOps, ImageEnhance"
   ]
  },
  {
   "cell_type": "code",
   "execution_count": 42,
   "metadata": {},
   "outputs": [],
   "source": [
    "def load_captcha():\n",
    "    url = \"https://ceoelection.maharashtra.gov.in/searchlist/\"\n",
    "\n",
    "    r = requests.get(url)\n",
    "    content = r.content\n",
    "\n",
    "    soup = BeautifulSoup(content, 'html.parser')\n",
    "\n",
    "    captcha_url = url+'Captcha.aspx'\n",
    "\n",
    "    with open('photo'+'.gif', 'wb') as f:\n",
    "        im = requests.get(captcha_url)\n",
    "        f.write(im.content)"
   ]
  },
  {
   "cell_type": "code",
   "execution_count": 43,
   "metadata": {},
   "outputs": [],
   "source": [
    "def filter_image(path):\n",
    "        \n",
    "    # Open the image\n",
    "    image = Image.open(path)\n",
    "\n",
    "    # Apply adaptive thresholding to create a binary image\n",
    "    threshold_image = image.point(lambda x: 0 if x < 128 else 255, mode='1')\n",
    "\n",
    "    # Perform morphological operations (opening and closing) to remove noise\n",
    "    opened_image = threshold_image.filter(ImageFilter.MedianFilter(size=3))\n",
    "    closed_image = opened_image.filter(ImageFilter.MedianFilter(size=3))\n",
    "\n",
    "    # Invert the image manually\n",
    "    inverted_image = Image.new('L', closed_image.size)\n",
    "    inverted_pixels = [(255 - pixel) for pixel in image.getdata()]\n",
    "    inverted_image.putdata(inverted_pixels)\n",
    "\n",
    "    # Convert the inverted image to grayscale (black-and-white)\n",
    "    bw_image = inverted_image.convert('L')\n",
    "\n",
    "    # Enhance the contrast of the image\n",
    "    enhanced_image = ImageOps.autocontrast(bw_image)\n",
    "\n",
    "    # Save the processed image\n",
    "    enhanced_image.save('processed_image.png')\n",
    "\n"
   ]
  },
  {
   "cell_type": "code",
   "execution_count": 44,
   "metadata": {},
   "outputs": [],
   "source": [
    "def filter_text(text):\n",
    "    return text[:-1]"
   ]
  },
  {
   "cell_type": "code",
   "execution_count": 45,
   "metadata": {},
   "outputs": [],
   "source": [
    "#For Recognition \n",
    "class OCR:\n",
    "    def __init__(self):\n",
    "        self.path = r\"C:\\Program Files\\Tesseract-OCR\\tesseract.exe\"\n",
    "\n",
    "    def extract(self, filename):\n",
    "        try:\n",
    "            pytesseract.tesseract_cmd = self.path\n",
    "            text = pytesseract.image_to_string(filename)\n",
    "            print()\n",
    "            return text\n",
    "        except Exception as e:\n",
    "            print(e)\n",
    "            return \"error\""
   ]
  },
  {
   "cell_type": "code",
   "execution_count": 46,
   "metadata": {},
   "outputs": [
    {
     "name": "stdout",
     "output_type": "stream",
     "text": [
      "\n",
      "nG#yaP\n"
     ]
    }
   ],
   "source": [
    "load_captcha()\n",
    "filter_image('photo.gif')\n",
    "ocr = OCR()\n",
    "text = ocr.extract('processed_image.png')\n",
    "text = filter_text(text)\n",
    "print(text)"
   ]
  },
  {
   "cell_type": "code",
   "execution_count": null,
   "metadata": {},
   "outputs": [],
   "source": []
  }
 ],
 "metadata": {
  "kernelspec": {
   "display_name": "Python 3",
   "language": "python",
   "name": "python3"
  },
  "language_info": {
   "codemirror_mode": {
    "name": "ipython",
    "version": 3
   },
   "file_extension": ".py",
   "mimetype": "text/x-python",
   "name": "python",
   "nbconvert_exporter": "python",
   "pygments_lexer": "ipython3",
   "version": "3.10.2"
  },
  "orig_nbformat": 4
 },
 "nbformat": 4,
 "nbformat_minor": 2
}
